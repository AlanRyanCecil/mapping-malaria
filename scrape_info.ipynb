{
 "cells": [
  {
   "cell_type": "code",
   "execution_count": 1,
   "metadata": {},
   "outputs": [],
   "source": [
    "from bs4 import BeautifulSoup\n",
    "import requests\n",
    "import pymongo\n",
    "\n",
    "client = pymongo.MongoClient('mongodb://localhost:27017')\n",
    "db = client.charities_db\n",
    "collection = db.charities\n",
    "\n",
    "def init_scaper():\n",
    "    # URL of page to be scraped\n",
    "    url = 'https://www.raptim.org/11-international-ngos-fighting-malaria/'\n",
    "    # Retrieve page with the requests module\n",
    "    response = requests.get(url)\n",
    "    # Create BeautifulSoup object; parse with 'lxml'\n",
    "    soup = BeautifulSoup(response.text, 'html.parser')\n",
    "    return soup\n",
    "\n",
    "def scrape_charity_data(soup):\n",
    "    charity_items = []\n",
    "    results = soup.find('article', class_='right')\n",
    "\n",
    "    headers = results.find_all('h3')\n",
    "    for header in headers:\n",
    "        header_text = header.find('strong').text\n",
    "\n",
    "        p = header.next_sibling\n",
    "        a = p.find('a')\n",
    "        if a:\n",
    "            link = a['href']\n",
    "        else:\n",
    "            link = None\n",
    "\n",
    "        charity_items.append({\n",
    "            'text': header_text,\n",
    "            'link': link\n",
    "        })\n",
    "\n",
    "    return charity_items\n",
    "\n",
    "if __name__ == '__main__':\n",
    "    soup = init_scaper()\n",
    "    charity_items = scrape_charity_data(soup)\n",
    "    for item in charity_items:\n",
    "        print(item)\n",
    "\n",
    "collection.insert_many(charity_items)\n",
    "\n",
    "charities =db.charities.find()\n",
    "for charity in charities:\n",
    "    print(charity)\n",
    "\n"
   ]
  },
  {
   "cell_type": "code",
   "execution_count": null,
   "metadata": {},
   "outputs": [],
   "source": []
  }
 ],
 "metadata": {
  "kernelspec": {
   "display_name": "Python 3",
   "language": "python",
   "name": "python3"
  },
  "language_info": {
   "codemirror_mode": {
    "name": "ipython",
    "version": 3
   },
   "file_extension": ".py",
   "mimetype": "text/x-python",
   "name": "python",
   "nbconvert_exporter": "python",
   "pygments_lexer": "ipython3",
   "version": "3.6.6"
  }
 },
 "nbformat": 4,
 "nbformat_minor": 2
}
